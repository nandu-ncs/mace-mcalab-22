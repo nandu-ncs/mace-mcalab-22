{
  "nbformat": 4,
  "nbformat_minor": 0,
  "metadata": {
    "colab": {
      "provenance": []
    },
    "kernelspec": {
      "name": "python3",
      "display_name": "Python 3"
    },
    "language_info": {
      "name": "python"
    }
  },
  "cells": [
    {
      "cell_type": "code",
      "execution_count": null,
      "metadata": {
        "id": "XHTw5hAnvEm6"
      },
      "outputs": [],
      "source": [
        "import matplotlib.pyplot as plt\n",
        "import numpy as np\n",
        "from sklearn import datasets, linear_model\n",
        "from sklearn.metrics import mean_squared_error, r2_score"
      ]
    },
    {
      "cell_type": "code",
      "source": [
        "df = datasets.load_diabetes()\n",
        "df['feature_names']"
      ],
      "metadata": {
        "colab": {
          "base_uri": "https://localhost:8080/"
        },
        "id": "eoh_g44tvICp",
        "outputId": "ff251af9-48a6-4100-c12a-6f1120854e88"
      },
      "execution_count": null,
      "outputs": [
        {
          "output_type": "execute_result",
          "data": {
            "text/plain": [
              "['age', 'sex', 'bmi', 'bp', 's1', 's2', 's3', 's4', 's5', 's6']"
            ]
          },
          "metadata": {},
          "execution_count": 2
        }
      ]
    },
    {
      "cell_type": "code",
      "source": [
        "df"
      ],
      "metadata": {
        "colab": {
          "base_uri": "https://localhost:8080/"
        },
        "id": "kTcqbv_g75fD",
        "outputId": "b78d9275-245b-481b-9d99-123421c7f832"
      },
      "execution_count": null,
      "outputs": [
        {
          "output_type": "execute_result",
          "data": {
            "text/plain": [
              "{'data': array([[ 0.03807591,  0.05068012,  0.06169621, ..., -0.00259226,\n",
              "          0.01990842, -0.01764613],\n",
              "        [-0.00188202, -0.04464164, -0.05147406, ..., -0.03949338,\n",
              "         -0.06832974, -0.09220405],\n",
              "        [ 0.08529891,  0.05068012,  0.04445121, ..., -0.00259226,\n",
              "          0.00286377, -0.02593034],\n",
              "        ...,\n",
              "        [ 0.04170844,  0.05068012, -0.01590626, ..., -0.01107952,\n",
              "         -0.04687948,  0.01549073],\n",
              "        [-0.04547248, -0.04464164,  0.03906215, ...,  0.02655962,\n",
              "          0.04452837, -0.02593034],\n",
              "        [-0.04547248, -0.04464164, -0.0730303 , ..., -0.03949338,\n",
              "         -0.00421986,  0.00306441]]),\n",
              " 'target': array([151.,  75., 141., 206., 135.,  97., 138.,  63., 110., 310., 101.,\n",
              "         69., 179., 185., 118., 171., 166., 144.,  97., 168.,  68.,  49.,\n",
              "         68., 245., 184., 202., 137.,  85., 131., 283., 129.,  59., 341.,\n",
              "         87.,  65., 102., 265., 276., 252.,  90., 100.,  55.,  61.,  92.,\n",
              "        259.,  53., 190., 142.,  75., 142., 155., 225.,  59., 104., 182.,\n",
              "        128.,  52.,  37., 170., 170.,  61., 144.,  52., 128.,  71., 163.,\n",
              "        150.,  97., 160., 178.,  48., 270., 202., 111.,  85.,  42., 170.,\n",
              "        200., 252., 113., 143.,  51.,  52., 210.,  65., 141.,  55., 134.,\n",
              "         42., 111.,  98., 164.,  48.,  96.,  90., 162., 150., 279.,  92.,\n",
              "         83., 128., 102., 302., 198.,  95.,  53., 134., 144., 232.,  81.,\n",
              "        104.,  59., 246., 297., 258., 229., 275., 281., 179., 200., 200.,\n",
              "        173., 180.,  84., 121., 161.,  99., 109., 115., 268., 274., 158.,\n",
              "        107.,  83., 103., 272.,  85., 280., 336., 281., 118., 317., 235.,\n",
              "         60., 174., 259., 178., 128.,  96., 126., 288.,  88., 292.,  71.,\n",
              "        197., 186.,  25.,  84.,  96., 195.,  53., 217., 172., 131., 214.,\n",
              "         59.,  70., 220., 268., 152.,  47.,  74., 295., 101., 151., 127.,\n",
              "        237., 225.,  81., 151., 107.,  64., 138., 185., 265., 101., 137.,\n",
              "        143., 141.,  79., 292., 178.,  91., 116.,  86., 122.,  72., 129.,\n",
              "        142.,  90., 158.,  39., 196., 222., 277.,  99., 196., 202., 155.,\n",
              "         77., 191.,  70.,  73.,  49.,  65., 263., 248., 296., 214., 185.,\n",
              "         78.,  93., 252., 150.,  77., 208.,  77., 108., 160.,  53., 220.,\n",
              "        154., 259.,  90., 246., 124.,  67.,  72., 257., 262., 275., 177.,\n",
              "         71.,  47., 187., 125.,  78.,  51., 258., 215., 303., 243.,  91.,\n",
              "        150., 310., 153., 346.,  63.,  89.,  50.,  39., 103., 308., 116.,\n",
              "        145.,  74.,  45., 115., 264.,  87., 202., 127., 182., 241.,  66.,\n",
              "         94., 283.,  64., 102., 200., 265.,  94., 230., 181., 156., 233.,\n",
              "         60., 219.,  80.,  68., 332., 248.,  84., 200.,  55.,  85.,  89.,\n",
              "         31., 129.,  83., 275.,  65., 198., 236., 253., 124.,  44., 172.,\n",
              "        114., 142., 109., 180., 144., 163., 147.,  97., 220., 190., 109.,\n",
              "        191., 122., 230., 242., 248., 249., 192., 131., 237.,  78., 135.,\n",
              "        244., 199., 270., 164.,  72.,  96., 306.,  91., 214.,  95., 216.,\n",
              "        263., 178., 113., 200., 139., 139.,  88., 148.,  88., 243.,  71.,\n",
              "         77., 109., 272.,  60.,  54., 221.,  90., 311., 281., 182., 321.,\n",
              "         58., 262., 206., 233., 242., 123., 167.,  63., 197.,  71., 168.,\n",
              "        140., 217., 121., 235., 245.,  40.,  52., 104., 132.,  88.,  69.,\n",
              "        219.,  72., 201., 110.,  51., 277.,  63., 118.,  69., 273., 258.,\n",
              "         43., 198., 242., 232., 175.,  93., 168., 275., 293., 281.,  72.,\n",
              "        140., 189., 181., 209., 136., 261., 113., 131., 174., 257.,  55.,\n",
              "         84.,  42., 146., 212., 233.,  91., 111., 152., 120.,  67., 310.,\n",
              "         94., 183.,  66., 173.,  72.,  49.,  64.,  48., 178., 104., 132.,\n",
              "        220.,  57.]),\n",
              " 'frame': None,\n",
              " 'DESCR': '.. _diabetes_dataset:\\n\\nDiabetes dataset\\n----------------\\n\\nTen baseline variables, age, sex, body mass index, average blood\\npressure, and six blood serum measurements were obtained for each of n =\\n442 diabetes patients, as well as the response of interest, a\\nquantitative measure of disease progression one year after baseline.\\n\\n**Data Set Characteristics:**\\n\\n  :Number of Instances: 442\\n\\n  :Number of Attributes: First 10 columns are numeric predictive values\\n\\n  :Target: Column 11 is a quantitative measure of disease progression one year after baseline\\n\\n  :Attribute Information:\\n      - age     age in years\\n      - sex\\n      - bmi     body mass index\\n      - bp      average blood pressure\\n      - s1      tc, total serum cholesterol\\n      - s2      ldl, low-density lipoproteins\\n      - s3      hdl, high-density lipoproteins\\n      - s4      tch, total cholesterol / HDL\\n      - s5      ltg, possibly log of serum triglycerides level\\n      - s6      glu, blood sugar level\\n\\nNote: Each of these 10 feature variables have been mean centered and scaled by the standard deviation times `n_samples` (i.e. the sum of squares of each column totals 1).\\n\\nSource URL:\\nhttps://www4.stat.ncsu.edu/~boos/var.select/diabetes.html\\n\\nFor more information see:\\nBradley Efron, Trevor Hastie, Iain Johnstone and Robert Tibshirani (2004) \"Least Angle Regression,\" Annals of Statistics (with discussion), 407-499.\\n(https://web.stanford.edu/~hastie/Papers/LARS/LeastAngle_2002.pdf)',\n",
              " 'feature_names': ['age',\n",
              "  'sex',\n",
              "  'bmi',\n",
              "  'bp',\n",
              "  's1',\n",
              "  's2',\n",
              "  's3',\n",
              "  's4',\n",
              "  's5',\n",
              "  's6'],\n",
              " 'data_filename': 'diabetes_data.csv.gz',\n",
              " 'target_filename': 'diabetes_target.csv.gz',\n",
              " 'data_module': 'sklearn.datasets.data'}"
            ]
          },
          "metadata": {},
          "execution_count": 3
        }
      ]
    },
    {
      "cell_type": "code",
      "source": [
        "print(df['DESCR'])"
      ],
      "metadata": {
        "colab": {
          "base_uri": "https://localhost:8080/"
        },
        "id": "SVR3FxZhw68s",
        "outputId": "d9ec231b-41b9-480c-ae79-549fd4798926"
      },
      "execution_count": null,
      "outputs": [
        {
          "output_type": "stream",
          "name": "stdout",
          "text": [
            ".. _diabetes_dataset:\n",
            "\n",
            "Diabetes dataset\n",
            "----------------\n",
            "\n",
            "Ten baseline variables, age, sex, body mass index, average blood\n",
            "pressure, and six blood serum measurements were obtained for each of n =\n",
            "442 diabetes patients, as well as the response of interest, a\n",
            "quantitative measure of disease progression one year after baseline.\n",
            "\n",
            "**Data Set Characteristics:**\n",
            "\n",
            "  :Number of Instances: 442\n",
            "\n",
            "  :Number of Attributes: First 10 columns are numeric predictive values\n",
            "\n",
            "  :Target: Column 11 is a quantitative measure of disease progression one year after baseline\n",
            "\n",
            "  :Attribute Information:\n",
            "      - age     age in years\n",
            "      - sex\n",
            "      - bmi     body mass index\n",
            "      - bp      average blood pressure\n",
            "      - s1      tc, total serum cholesterol\n",
            "      - s2      ldl, low-density lipoproteins\n",
            "      - s3      hdl, high-density lipoproteins\n",
            "      - s4      tch, total cholesterol / HDL\n",
            "      - s5      ltg, possibly log of serum triglycerides level\n",
            "      - s6      glu, blood sugar level\n",
            "\n",
            "Note: Each of these 10 feature variables have been mean centered and scaled by the standard deviation times `n_samples` (i.e. the sum of squares of each column totals 1).\n",
            "\n",
            "Source URL:\n",
            "https://www4.stat.ncsu.edu/~boos/var.select/diabetes.html\n",
            "\n",
            "For more information see:\n",
            "Bradley Efron, Trevor Hastie, Iain Johnstone and Robert Tibshirani (2004) \"Least Angle Regression,\" Annals of Statistics (with discussion), 407-499.\n",
            "(https://web.stanford.edu/~hastie/Papers/LARS/LeastAngle_2002.pdf)\n"
          ]
        }
      ]
    },
    {
      "cell_type": "code",
      "source": [
        "df['data'].shape"
      ],
      "metadata": {
        "colab": {
          "base_uri": "https://localhost:8080/"
        },
        "id": "rIo6fKkav6nf",
        "outputId": "c7bcc874-d77b-43e6-995c-3fea6a65879f"
      },
      "execution_count": null,
      "outputs": [
        {
          "output_type": "execute_result",
          "data": {
            "text/plain": [
              "(442, 10)"
            ]
          },
          "metadata": {},
          "execution_count": 5
        }
      ]
    },
    {
      "cell_type": "code",
      "source": [
        "# Load the diabetes dataset\n",
        "diabetes_X, diabetes_y = datasets.load_diabetes(return_X_y=True)\n",
        "diabetes_X.shape"
      ],
      "metadata": {
        "colab": {
          "base_uri": "https://localhost:8080/"
        },
        "id": "S9TYxsaUvJVh",
        "outputId": "edbbe4fc-8436-4f3e-da84-9feb78cb878e"
      },
      "execution_count": null,
      "outputs": [
        {
          "output_type": "execute_result",
          "data": {
            "text/plain": [
              "(442, 10)"
            ]
          },
          "metadata": {},
          "execution_count": 6
        }
      ]
    },
    {
      "cell_type": "code",
      "source": [
        "diabetes_y.shape"
      ],
      "metadata": {
        "colab": {
          "base_uri": "https://localhost:8080/"
        },
        "id": "EkzIal5AvKqp",
        "outputId": "f8ec8874-52c3-4d5b-9864-6eab2bd37cdf"
      },
      "execution_count": null,
      "outputs": [
        {
          "output_type": "execute_result",
          "data": {
            "text/plain": [
              "(442,)"
            ]
          },
          "metadata": {},
          "execution_count": 7
        }
      ]
    },
    {
      "cell_type": "code",
      "source": [
        "# Use only one feature\n",
        "diabetes_X = diabetes_X[:, np.newaxis, 2]\n",
        "diabetes_X.shape"
      ],
      "metadata": {
        "colab": {
          "base_uri": "https://localhost:8080/"
        },
        "id": "4b27YPhsvLxB",
        "outputId": "a5993232-e526-4938-9da9-aada4822eef1"
      },
      "execution_count": null,
      "outputs": [
        {
          "output_type": "execute_result",
          "data": {
            "text/plain": [
              "(442, 1)"
            ]
          },
          "metadata": {},
          "execution_count": 8
        }
      ]
    },
    {
      "cell_type": "code",
      "source": [
        "diabetes_X"
      ],
      "metadata": {
        "colab": {
          "base_uri": "https://localhost:8080/"
        },
        "id": "9VZd0NIg7lN8",
        "outputId": "d5107efd-de98-4a33-fe31-96a952477bd6"
      },
      "execution_count": null,
      "outputs": [
        {
          "output_type": "execute_result",
          "data": {
            "text/plain": [
              "array([[ 0.06169621],\n",
              "       [-0.05147406],\n",
              "       [ 0.04445121],\n",
              "       [-0.01159501],\n",
              "       [-0.03638469],\n",
              "       [-0.04069594],\n",
              "       [-0.04716281],\n",
              "       [-0.00189471],\n",
              "       [ 0.06169621],\n",
              "       [ 0.03906215],\n",
              "       [-0.08380842],\n",
              "       [ 0.01750591],\n",
              "       [-0.02884001],\n",
              "       [-0.00189471],\n",
              "       [-0.02560657],\n",
              "       [-0.01806189],\n",
              "       [ 0.04229559],\n",
              "       [ 0.01211685],\n",
              "       [-0.0105172 ],\n",
              "       [-0.01806189],\n",
              "       [-0.05686312],\n",
              "       [-0.02237314],\n",
              "       [-0.00405033],\n",
              "       [ 0.06061839],\n",
              "       [ 0.03582872],\n",
              "       [-0.01267283],\n",
              "       [-0.07734155],\n",
              "       [ 0.05954058],\n",
              "       [-0.02129532],\n",
              "       [-0.00620595],\n",
              "       [ 0.04445121],\n",
              "       [-0.06548562],\n",
              "       [ 0.12528712],\n",
              "       [-0.05039625],\n",
              "       [-0.06332999],\n",
              "       [-0.03099563],\n",
              "       [ 0.02289497],\n",
              "       [ 0.01103904],\n",
              "       [ 0.07139652],\n",
              "       [ 0.01427248],\n",
              "       [-0.00836158],\n",
              "       [-0.06764124],\n",
              "       [-0.0105172 ],\n",
              "       [-0.02345095],\n",
              "       [ 0.06816308],\n",
              "       [-0.03530688],\n",
              "       [-0.01159501],\n",
              "       [-0.0730303 ],\n",
              "       [-0.04177375],\n",
              "       [ 0.01427248],\n",
              "       [-0.00728377],\n",
              "       [ 0.0164281 ],\n",
              "       [-0.00943939],\n",
              "       [-0.01590626],\n",
              "       [ 0.0250506 ],\n",
              "       [-0.04931844],\n",
              "       [ 0.04121778],\n",
              "       [-0.06332999],\n",
              "       [-0.06440781],\n",
              "       [-0.02560657],\n",
              "       [-0.00405033],\n",
              "       [ 0.00457217],\n",
              "       [-0.00728377],\n",
              "       [-0.0374625 ],\n",
              "       [-0.02560657],\n",
              "       [-0.02452876],\n",
              "       [-0.01806189],\n",
              "       [-0.01482845],\n",
              "       [-0.02991782],\n",
              "       [-0.046085  ],\n",
              "       [-0.06979687],\n",
              "       [ 0.03367309],\n",
              "       [-0.00405033],\n",
              "       [-0.02021751],\n",
              "       [ 0.00241654],\n",
              "       [-0.03099563],\n",
              "       [ 0.02828403],\n",
              "       [-0.03638469],\n",
              "       [-0.05794093],\n",
              "       [-0.0374625 ],\n",
              "       [ 0.01211685],\n",
              "       [-0.02237314],\n",
              "       [-0.03530688],\n",
              "       [ 0.00996123],\n",
              "       [-0.03961813],\n",
              "       [ 0.07139652],\n",
              "       [-0.07518593],\n",
              "       [-0.00620595],\n",
              "       [-0.04069594],\n",
              "       [-0.04824063],\n",
              "       [-0.02560657],\n",
              "       [ 0.0519959 ],\n",
              "       [ 0.00457217],\n",
              "       [-0.06440781],\n",
              "       [-0.01698407],\n",
              "       [-0.05794093],\n",
              "       [ 0.00996123],\n",
              "       [ 0.08864151],\n",
              "       [-0.00512814],\n",
              "       [-0.06440781],\n",
              "       [ 0.01750591],\n",
              "       [-0.04500719],\n",
              "       [ 0.02828403],\n",
              "       [ 0.04121778],\n",
              "       [ 0.06492964],\n",
              "       [-0.03207344],\n",
              "       [-0.07626374],\n",
              "       [ 0.04984027],\n",
              "       [ 0.04552903],\n",
              "       [-0.00943939],\n",
              "       [-0.03207344],\n",
              "       [ 0.00457217],\n",
              "       [ 0.02073935],\n",
              "       [ 0.01427248],\n",
              "       [ 0.11019775],\n",
              "       [ 0.00133873],\n",
              "       [ 0.05846277],\n",
              "       [-0.02129532],\n",
              "       [-0.0105172 ],\n",
              "       [-0.04716281],\n",
              "       [ 0.00457217],\n",
              "       [ 0.01750591],\n",
              "       [ 0.08109682],\n",
              "       [ 0.0347509 ],\n",
              "       [ 0.02397278],\n",
              "       [-0.00836158],\n",
              "       [-0.06117437],\n",
              "       [-0.00189471],\n",
              "       [-0.06225218],\n",
              "       [ 0.0164281 ],\n",
              "       [ 0.09618619],\n",
              "       [-0.06979687],\n",
              "       [-0.02129532],\n",
              "       [-0.05362969],\n",
              "       [ 0.0433734 ],\n",
              "       [ 0.05630715],\n",
              "       [-0.0816528 ],\n",
              "       [ 0.04984027],\n",
              "       [ 0.11127556],\n",
              "       [ 0.06169621],\n",
              "       [ 0.01427248],\n",
              "       [ 0.04768465],\n",
              "       [ 0.01211685],\n",
              "       [ 0.00564998],\n",
              "       [ 0.04660684],\n",
              "       [ 0.12852056],\n",
              "       [ 0.05954058],\n",
              "       [ 0.09295276],\n",
              "       [ 0.01535029],\n",
              "       [-0.00512814],\n",
              "       [ 0.0703187 ],\n",
              "       [-0.00405033],\n",
              "       [-0.00081689],\n",
              "       [-0.04392938],\n",
              "       [ 0.02073935],\n",
              "       [ 0.06061839],\n",
              "       [-0.0105172 ],\n",
              "       [-0.03315126],\n",
              "       [-0.06548562],\n",
              "       [ 0.0433734 ],\n",
              "       [-0.06225218],\n",
              "       [ 0.06385183],\n",
              "       [ 0.03043966],\n",
              "       [ 0.07247433],\n",
              "       [-0.0191397 ],\n",
              "       [-0.06656343],\n",
              "       [-0.06009656],\n",
              "       [ 0.06924089],\n",
              "       [ 0.05954058],\n",
              "       [-0.02668438],\n",
              "       [-0.02021751],\n",
              "       [-0.046085  ],\n",
              "       [ 0.07139652],\n",
              "       [-0.07949718],\n",
              "       [ 0.00996123],\n",
              "       [-0.03854032],\n",
              "       [ 0.01966154],\n",
              "       [ 0.02720622],\n",
              "       [-0.00836158],\n",
              "       [-0.01590626],\n",
              "       [ 0.00457217],\n",
              "       [-0.04285156],\n",
              "       [ 0.00564998],\n",
              "       [-0.03530688],\n",
              "       [ 0.02397278],\n",
              "       [-0.01806189],\n",
              "       [ 0.04229559],\n",
              "       [-0.0547075 ],\n",
              "       [-0.00297252],\n",
              "       [-0.06656343],\n",
              "       [-0.01267283],\n",
              "       [-0.04177375],\n",
              "       [-0.03099563],\n",
              "       [-0.00512814],\n",
              "       [-0.05901875],\n",
              "       [ 0.0250506 ],\n",
              "       [-0.046085  ],\n",
              "       [ 0.00349435],\n",
              "       [ 0.05415152],\n",
              "       [-0.04500719],\n",
              "       [-0.05794093],\n",
              "       [-0.05578531],\n",
              "       [ 0.00133873],\n",
              "       [ 0.03043966],\n",
              "       [ 0.00672779],\n",
              "       [ 0.04660684],\n",
              "       [ 0.02612841],\n",
              "       [ 0.04552903],\n",
              "       [ 0.04013997],\n",
              "       [-0.01806189],\n",
              "       [ 0.01427248],\n",
              "       [ 0.03690653],\n",
              "       [ 0.00349435],\n",
              "       [-0.07087468],\n",
              "       [-0.03315126],\n",
              "       [ 0.09403057],\n",
              "       [ 0.03582872],\n",
              "       [ 0.03151747],\n",
              "       [-0.06548562],\n",
              "       [-0.04177375],\n",
              "       [-0.03961813],\n",
              "       [-0.03854032],\n",
              "       [-0.02560657],\n",
              "       [-0.02345095],\n",
              "       [-0.06656343],\n",
              "       [ 0.03259528],\n",
              "       [-0.046085  ],\n",
              "       [-0.02991782],\n",
              "       [-0.01267283],\n",
              "       [-0.01590626],\n",
              "       [ 0.07139652],\n",
              "       [-0.03099563],\n",
              "       [ 0.00026092],\n",
              "       [ 0.03690653],\n",
              "       [ 0.03906215],\n",
              "       [-0.01482845],\n",
              "       [ 0.00672779],\n",
              "       [-0.06871905],\n",
              "       [-0.00943939],\n",
              "       [ 0.01966154],\n",
              "       [ 0.07462995],\n",
              "       [-0.00836158],\n",
              "       [-0.02345095],\n",
              "       [-0.046085  ],\n",
              "       [ 0.05415152],\n",
              "       [-0.03530688],\n",
              "       [-0.03207344],\n",
              "       [-0.0816528 ],\n",
              "       [ 0.04768465],\n",
              "       [ 0.06061839],\n",
              "       [ 0.05630715],\n",
              "       [ 0.09834182],\n",
              "       [ 0.05954058],\n",
              "       [ 0.03367309],\n",
              "       [ 0.05630715],\n",
              "       [-0.06548562],\n",
              "       [ 0.16085492],\n",
              "       [-0.05578531],\n",
              "       [-0.02452876],\n",
              "       [-0.03638469],\n",
              "       [-0.00836158],\n",
              "       [-0.04177375],\n",
              "       [ 0.12744274],\n",
              "       [-0.07734155],\n",
              "       [ 0.02828403],\n",
              "       [-0.02560657],\n",
              "       [-0.06225218],\n",
              "       [-0.00081689],\n",
              "       [ 0.08864151],\n",
              "       [-0.03207344],\n",
              "       [ 0.03043966],\n",
              "       [ 0.00888341],\n",
              "       [ 0.00672779],\n",
              "       [-0.02021751],\n",
              "       [-0.02452876],\n",
              "       [-0.01159501],\n",
              "       [ 0.02612841],\n",
              "       [-0.05901875],\n",
              "       [-0.03638469],\n",
              "       [-0.02452876],\n",
              "       [ 0.01858372],\n",
              "       [-0.0902753 ],\n",
              "       [-0.00512814],\n",
              "       [-0.05255187],\n",
              "       [-0.02237314],\n",
              "       [-0.02021751],\n",
              "       [-0.0547075 ],\n",
              "       [-0.00620595],\n",
              "       [-0.01698407],\n",
              "       [ 0.05522933],\n",
              "       [ 0.07678558],\n",
              "       [ 0.01858372],\n",
              "       [-0.02237314],\n",
              "       [ 0.09295276],\n",
              "       [-0.03099563],\n",
              "       [ 0.03906215],\n",
              "       [-0.06117437],\n",
              "       [-0.00836158],\n",
              "       [-0.0374625 ],\n",
              "       [-0.01375064],\n",
              "       [ 0.07355214],\n",
              "       [-0.02452876],\n",
              "       [ 0.03367309],\n",
              "       [ 0.0347509 ],\n",
              "       [-0.03854032],\n",
              "       [-0.03961813],\n",
              "       [-0.00189471],\n",
              "       [-0.03099563],\n",
              "       [-0.046085  ],\n",
              "       [ 0.00133873],\n",
              "       [ 0.06492964],\n",
              "       [ 0.04013997],\n",
              "       [-0.02345095],\n",
              "       [ 0.05307371],\n",
              "       [ 0.04013997],\n",
              "       [-0.02021751],\n",
              "       [ 0.01427248],\n",
              "       [-0.03422907],\n",
              "       [ 0.00672779],\n",
              "       [ 0.00457217],\n",
              "       [ 0.03043966],\n",
              "       [ 0.0519959 ],\n",
              "       [ 0.06169621],\n",
              "       [-0.00728377],\n",
              "       [ 0.00564998],\n",
              "       [ 0.05415152],\n",
              "       [-0.00836158],\n",
              "       [ 0.114509  ],\n",
              "       [ 0.06708527],\n",
              "       [-0.05578531],\n",
              "       [ 0.03043966],\n",
              "       [-0.02560657],\n",
              "       [ 0.10480869],\n",
              "       [-0.00620595],\n",
              "       [-0.04716281],\n",
              "       [-0.04824063],\n",
              "       [ 0.08540807],\n",
              "       [-0.01267283],\n",
              "       [-0.03315126],\n",
              "       [-0.00728377],\n",
              "       [-0.01375064],\n",
              "       [ 0.05954058],\n",
              "       [ 0.02181716],\n",
              "       [ 0.01858372],\n",
              "       [-0.01159501],\n",
              "       [-0.00297252],\n",
              "       [ 0.01750591],\n",
              "       [-0.02991782],\n",
              "       [-0.02021751],\n",
              "       [-0.05794093],\n",
              "       [ 0.06061839],\n",
              "       [-0.04069594],\n",
              "       [-0.07195249],\n",
              "       [-0.05578531],\n",
              "       [ 0.04552903],\n",
              "       [-0.00943939],\n",
              "       [-0.03315126],\n",
              "       [ 0.04984027],\n",
              "       [-0.08488624],\n",
              "       [ 0.00564998],\n",
              "       [ 0.02073935],\n",
              "       [-0.00728377],\n",
              "       [ 0.10480869],\n",
              "       [-0.02452876],\n",
              "       [-0.00620595],\n",
              "       [-0.03854032],\n",
              "       [ 0.13714305],\n",
              "       [ 0.17055523],\n",
              "       [ 0.00241654],\n",
              "       [ 0.03798434],\n",
              "       [-0.05794093],\n",
              "       [-0.00943939],\n",
              "       [-0.02345095],\n",
              "       [-0.0105172 ],\n",
              "       [-0.03422907],\n",
              "       [-0.00297252],\n",
              "       [ 0.06816308],\n",
              "       [ 0.00996123],\n",
              "       [ 0.00241654],\n",
              "       [-0.03854032],\n",
              "       [ 0.02612841],\n",
              "       [-0.08919748],\n",
              "       [ 0.06061839],\n",
              "       [-0.02884001],\n",
              "       [-0.02991782],\n",
              "       [-0.0191397 ],\n",
              "       [-0.04069594],\n",
              "       [ 0.01535029],\n",
              "       [-0.02452876],\n",
              "       [ 0.00133873],\n",
              "       [ 0.06924089],\n",
              "       [-0.06979687],\n",
              "       [-0.02991782],\n",
              "       [-0.046085  ],\n",
              "       [ 0.01858372],\n",
              "       [ 0.00133873],\n",
              "       [-0.03099563],\n",
              "       [-0.00405033],\n",
              "       [ 0.01535029],\n",
              "       [ 0.02289497],\n",
              "       [ 0.04552903],\n",
              "       [-0.04500719],\n",
              "       [-0.03315126],\n",
              "       [ 0.097264  ],\n",
              "       [ 0.05415152],\n",
              "       [ 0.12313149],\n",
              "       [-0.08057499],\n",
              "       [ 0.09295276],\n",
              "       [-0.05039625],\n",
              "       [-0.01159501],\n",
              "       [-0.0277622 ],\n",
              "       [ 0.05846277],\n",
              "       [ 0.08540807],\n",
              "       [-0.00081689],\n",
              "       [ 0.00672779],\n",
              "       [ 0.00888341],\n",
              "       [ 0.08001901],\n",
              "       [ 0.07139652],\n",
              "       [-0.02452876],\n",
              "       [-0.0547075 ],\n",
              "       [-0.03638469],\n",
              "       [ 0.0164281 ],\n",
              "       [ 0.07786339],\n",
              "       [-0.03961813],\n",
              "       [ 0.01103904],\n",
              "       [-0.04069594],\n",
              "       [-0.03422907],\n",
              "       [ 0.00564998],\n",
              "       [ 0.08864151],\n",
              "       [-0.03315126],\n",
              "       [-0.05686312],\n",
              "       [-0.03099563],\n",
              "       [ 0.05522933],\n",
              "       [-0.06009656],\n",
              "       [ 0.00133873],\n",
              "       [-0.02345095],\n",
              "       [-0.07410811],\n",
              "       [ 0.01966154],\n",
              "       [-0.01590626],\n",
              "       [-0.01590626],\n",
              "       [ 0.03906215],\n",
              "       [-0.0730303 ]])"
            ]
          },
          "metadata": {},
          "execution_count": 9
        }
      ]
    },
    {
      "cell_type": "code",
      "source": [
        "from sklearn.model_selection import train_test_split "
      ],
      "metadata": {
        "id": "hxzcKrNh9_yF"
      },
      "execution_count": null,
      "outputs": []
    },
    {
      "cell_type": "code",
      "source": [
        "diabetes_X_train,diabetes_X_test,diabetes_y_train,diabetes_y_test = train_test_split(diabetes_X,diabetes_y,test_size=0.3)"
      ],
      "metadata": {
        "id": "3AtlqX6O-Nqv"
      },
      "execution_count": null,
      "outputs": []
    },
    {
      "cell_type": "code",
      "source": [
        "diabetes_X_test.shape"
      ],
      "metadata": {
        "colab": {
          "base_uri": "https://localhost:8080/"
        },
        "id": "v6JSLNhD-gZ3",
        "outputId": "f9d5681d-c91d-43dd-d3e6-b2dae73bb148"
      },
      "execution_count": null,
      "outputs": [
        {
          "output_type": "execute_result",
          "data": {
            "text/plain": [
              "(133, 1)"
            ]
          },
          "metadata": {},
          "execution_count": 27
        }
      ]
    },
    {
      "cell_type": "code",
      "source": [
        "# # Split the data into training/testing sets\n",
        "# diabetes_X_train = diabetes_X#[:-20]\n",
        "# diabetes_X_test = diabetes_X#[-20:]\n",
        "\n",
        "# # Split the targets into training/testing sets\n",
        "# diabetes_y_train = diabetes_y#[:-20]\n",
        "# diabetes_X_test = diabetes_y#[-20:]"
      ],
      "metadata": {
        "id": "R7YMw6h1vNPR"
      },
      "execution_count": null,
      "outputs": []
    },
    {
      "cell_type": "code",
      "source": [
        "diabetes_X_test.shape"
      ],
      "metadata": {
        "colab": {
          "base_uri": "https://localhost:8080/"
        },
        "id": "2zMNBCJe9xzd",
        "outputId": "e3a28802-59cc-42cd-eaed-a43297a00759"
      },
      "execution_count": null,
      "outputs": [
        {
          "output_type": "execute_result",
          "data": {
            "text/plain": [
              "(133,)"
            ]
          },
          "metadata": {},
          "execution_count": 22
        }
      ]
    },
    {
      "cell_type": "code",
      "source": [
        "# Create linear regression object\n",
        "regr = linear_model.LinearRegression()\n",
        "\n",
        "# Train the model using the training sets\n",
        "regr.fit(diabetes_X_train, diabetes_y_train)"
      ],
      "metadata": {
        "colab": {
          "base_uri": "https://localhost:8080/"
        },
        "id": "yVsLi5p_vOtJ",
        "outputId": "058ce783-8d12-4db2-aceb-3474f24b2a42"
      },
      "execution_count": null,
      "outputs": [
        {
          "output_type": "execute_result",
          "data": {
            "text/plain": [
              "LinearRegression()"
            ]
          },
          "metadata": {},
          "execution_count": 28
        }
      ]
    },
    {
      "cell_type": "code",
      "source": [
        "# Make predictions using the testing set\n",
        "diabetes_y_pred = regr.predict(diabetes_X_test)"
      ],
      "metadata": {
        "id": "e_w332K6vQFJ"
      },
      "execution_count": null,
      "outputs": []
    },
    {
      "cell_type": "code",
      "source": [
        "# The coefficients\n",
        "print(\"Coefficients: \", regr.coef_)\n",
        "# The mean squared error\n",
        "print(\"Mean squared error: %.2f\" % mean_squared_error(diabetes_y_test, diabetes_y_pred))\n",
        "# The coefficient of determination: 1 is perfect prediction\n",
        "print(\"Coefficient of determination: %.2f\" % r2_score(diabetes_y_test, diabetes_y_pred))"
      ],
      "metadata": {
        "colab": {
          "base_uri": "https://localhost:8080/"
        },
        "id": "IN5bt8eXvRlJ",
        "outputId": "47adca92-d4e9-4228-8c06-3192f573db58"
      },
      "execution_count": null,
      "outputs": [
        {
          "output_type": "stream",
          "name": "stdout",
          "text": [
            "Coefficients:  [868.49394774]\n",
            "Mean squared error: 3935.01\n",
            "Coefficient of determination: 0.40\n"
          ]
        }
      ]
    },
    {
      "cell_type": "code",
      "source": [
        "# Plot outputs\n",
        "plt.scatter(diabetes_X_test, diabetes_y_test, color=\"black\")\n",
        "plt.plot(diabetes_X_test, diabetes_y_pred, color=\"blue\")\n",
        "plt.xlabel(\"bmi\")\n",
        "plt.ylabel(\"diabetes progression\")\n",
        "# plt.xticks(())\n",
        "# plt.yticks(())\n",
        "\n",
        "plt.show()"
      ],
      "metadata": {
        "colab": {
          "base_uri": "https://localhost:8080/",
          "height": 279
        },
        "id": "N2IXnCW0vTYh",
        "outputId": "50cd7aff-a7bc-4225-dfb3-7ebd80ff89eb"
      },
      "execution_count": null,
      "outputs": [
        {
          "output_type": "display_data",
          "data": {
            "text/plain": [
              "<Figure size 432x288 with 1 Axes>"
            ],
            "image/png": "[encoded data removed]"
          },
          "metadata": {
            "needs_background": "light"
          }
        }
      ]
    },
    {
      "cell_type": "code",
      "source": [
        "y_pred = regr.predict(diabetes_X_test)"
      ],
      "metadata": {
        "id": "FV7NhEp99Ac9"
      },
      "execution_count": null,
      "outputs": []
    },
    {
      "cell_type": "code",
      "source": [
        "y_pred"
      ],
      "metadata": {
        "colab": {
          "base_uri": "https://localhost:8080/"
        },
        "id": "w_eidgwm_O8n",
        "outputId": "9f54f7c4-38f1-4fa2-aa28-b16f130eeb15"
      },
      "execution_count": null,
      "outputs": [
        {
          "output_type": "execute_result",
          "data": {
            "text/plain": [
              "array([ 79.22154228,  93.26264122, 139.13023111, 153.17133005,\n",
              "        93.26264122, 109.17588669, 180.31745468, 201.84713973,\n",
              "       188.74211405, 129.76949848, 194.35855362, 166.27635574,\n",
              "       120.40876585, 169.08457552, 141.00237764, 136.32201132,\n",
              "       181.25352794, 201.84713973, 141.9384509 , 138.19415785,\n",
              "        98.8790808 , 122.28091238, 123.21698564, 126.96127869,\n",
              "       197.16677341, 258.01153551, 156.91562311,  85.77405512,\n",
              "       196.23070015, 127.89735195, 223.37682478, 133.51379153,\n",
              "       229.92933762, 100.75122733, 211.20787236, 130.70557174,\n",
              "       226.18504457, 120.40876585, 120.40876585, 129.76949848,\n",
              "       143.81059742, 184.99782099, 145.68274395,  99.81515406,\n",
              "       140.06630437,  93.26264122, 113.85625301, 141.00237764,\n",
              "       201.84713973,  97.00693428, 134.44986479, 150.36311026,\n",
              "       157.85169637, 205.59143278, 140.06630437, 204.65535952,\n",
              "       119.47269259, 161.59598942, 101.68730059, 213.08001888,\n",
              "       248.65080288, 119.47269259, 133.51379153, 153.17133005,\n",
              "       117.60054606,  98.8790808 , 141.9384509 ,  91.3904947 ,\n",
              "       147.55489048, 123.21698564, 114.79232627, 150.36311026,\n",
              "       196.23070015, 154.10740332, 181.25352794, 161.59598942,\n",
              "       196.23070015, 202.78321299, 123.21698564, 130.70557174,\n",
              "       124.1530589 , 148.49096374, 215.88823867, 198.10284668,\n",
              "       154.10740332, 155.04347658, 158.78776963, 132.57771827,\n",
              "       195.29462689, 117.60054606, 218.69645846, 166.27635574,\n",
              "       184.06174773, 199.9749932 , 165.34028247,  92.32656796,\n",
              "        86.71012838, 183.12567447, 214.01609215, 176.57316163,\n",
              "       119.47269259, 140.06630437, 153.17133005, 259.88368203,\n",
              "       129.76949848, 135.38593806, 172.82886858, 161.59598942,\n",
              "       169.08457552, 142.87452416, 146.61881721, 127.89735195,\n",
              "       163.46813595, 106.36766691, 189.67818731, 159.72384289,\n",
              "       126.96127869, 111.04803322, 233.67363067, 126.02520543,\n",
              "       161.59598942, 142.87452416, 173.76494184, 150.36311026,\n",
              "       192.4864071 ,  87.64620165, 164.40420921,  80.15761554,\n",
              "       151.29918353,  78.28546902, 150.36311026,  76.41332249,\n",
              "       226.18504457])"
            ]
          },
          "metadata": {},
          "execution_count": 33
        }
      ]
    },
    {
      "cell_type": "code",
      "source": [
        "plt.scatter(y_pred, diabetes_y_test)\n",
        "plt.show()"
      ],
      "metadata": {
        "colab": {
          "base_uri": "https://localhost:8080/",
          "height": 265
        },
        "id": "_-P4RQ2b_RFe",
        "outputId": "c4ff9ec4-7c28-421f-f590-b3645ab42da3"
      },
      "execution_count": null,
      "outputs": [
        {
          "output_type": "display_data",
          "data": {
            "text/plain": [
              "<Figure size 432x288 with 1 Axes>"
            ],
            "image/png": "[encoded data removed]"
          },
          "metadata": {
            "needs_background": "light"
          }
        }
      ]
    }
  ]
}